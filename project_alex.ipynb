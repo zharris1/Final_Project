{
 "cells": [
  {
   "cell_type": "markdown",
   "id": "3962083b",
   "metadata": {},
   "source": [
    "<h1><center>Lab 3: Clustering</center></h1>\n",
    "<h3><center>A Deeper Analysis of Covid-19 Data</center></h3>\n",
    "<p><center>DS 7331</center></p>\n",
    "<p><center>Created by Sadik Aman, Dawn Bowerman, Zachary Harris, Alexandre Jasserme</center></p>\n",
    "\n",
    "<p><center>Sections of this code was adapted from: \n",
    "    <li>https://github.com/jakemdrew/DataMiningNotebooks</li>\n",
    "    <li> https://scikit-learn.org/stable/auto_examples/linear_model/plot_theilsen.html</li>\n",
    "    <li> https://scikit-learn.org/stable/modules/generated/sklearn.linear_model.RANSACRegressor.html </li>\n",
    "    <li> https://machinelearningmastery.com/random-forest-ensemble-in-python/ </li>"
   ]
  },
  {
   "cell_type": "markdown",
   "id": "ef308c79",
   "metadata": {},
   "source": [
    "## Business Understanding 1 - Alex"
   ]
  },
  {
   "cell_type": "markdown",
   "id": "e53e6ce8",
   "metadata": {},
   "source": [
    "### Describe the purpose of the data set you selected (i.e., why was this data collected in the first place?)\n",
    "\n",
    "This dataset is published in the 'Our World in Data' website which is a collection of existing datasets. \n",
    "Source: https://github.com/owid/covid-19-data/tree/master/public/data \n",
    "Citation:\n",
    "Hannah Ritchie, Edouard Mathieu, Lucas Rodés-Guirao, Cameron Appel, Charlie Giattino, Esteban Ortiz-Ospina, Joe Hasell, Bobbie Macdonald, Diana Beltekian and Max Roser (2020) - \"Coronavirus Pandemic (COVID-19)\". Published online at OurWorldInData.org. Retrieved from: 'https://ourworldindata.org/coronavirus' [Online Resource]\n",
    "\n",
    ">This dataset was partially obtained from:\n",
    "The Covid-19 Data Repository which is for the Coronavirus Visual Dashboard by the Center for Systems Science and Engineering at Johns Hopkins University.  The data has been accumulated from many official sources, which are documented on the github, since January 22, 2020 on confirmed Covid-19 cases and deaths for all countries.  https://github.com/CSSEGISandData/COVID-19\n",
    "Other attributes were from official government reports documented in the codebook. There were originally 67 attributes and 154,105 records.  They are presented below with descriptions from the website:\n",
    "\n",
    ">**Confirmed cases**                                                      \n",
    "total_cases: \t                               \t\tTotal confirmed cases of COVID-19,\n",
    "new_cases: \t\t\t\tNew confirmed cases of COVID-19<br>\n",
    "new_cases_smoothed:\t\t\tNew confirmed cases of COVID-19 (7-day smoothed)<br>\n",
    "total_cases_per_million: \t\t\tTotal confirmed cases of COVID-19 per 1,000,000 people<br>\n",
    "new_cases_per_million: \t\t\tNew confirmed cases of COVID-19 per 1,000,000 people<br>\n",
    "new_cases_smoothed_per_million: \t\tNew confirmed cases of COVID-19 (7-day smoothed) per 1,000,000 people<br>\n",
    "\n",
    "\n",
    ">**Confirmed deaths**<br>\n",
    "total_deaths: \t\t\t\tTotal deaths attributed to COVID-19<br>\n",
    "new_deaths: \t\t\t\tNew deaths attributed to COVID-19<br>\n",
    "new_deaths_smoothed: \t\t\tNew deaths attributed to COVID-19 (7-day smoothed)<br>\n",
    "total_deaths_per_million: \t\t\tTotal deaths attributed to COVID-19 per 1,000,000 people<br>\n",
    "new_deaths_per_million: \t\t\tNew deaths attributed to COVID-19 per 1,000,000 people<br>\n",
    "new_deaths_smoothed_per_million: \t\tNew deaths attributed to COVID-19 (7-day smoothed) per 1,000,000 people<br>\n",
    "\n",
    "\n",
    "\n",
    ">**Excess mortality**<br>\n",
    "excess_mortality: \t\t\t\tPercentage difference between the reported number of weekly or monthly deaths in 2020–2021 and the \t\t\t\t\t\t\tprojected number of deaths for the same period based on previous years.<br> \n",
    "excess_mortality_cumulative: \t\t\tPercentage difference between the cumulative number of deaths since 1 January 2020 and the cumulative \t\t\t\t\t\tprojected deaths for the same period based on previous years.<br> \n",
    "excess_mortality_cumulative_absolute: \t\tCumulative difference between the reported number of deaths since 1 January 2020 and the projected \t\t\t\t\t\t\tnumber of deaths for the same period based on previous years.<br> \n",
    "excess_mortality_cumulative_per_million: \tCumulative difference between the reported number of deaths since 1 January 2020 and the projected \t\t\t\t\t\t\tnumber of deaths for the same period based on previous years, per million people.<br> \n",
    "\n",
    "\n",
    ">**Hospital & ICU**<br>\n",
    "icu_patients: \t\t\t\tNumber of COVID-19 patients in intensive care units (ICUs) on a given day<br>\n",
    "icu_patients_per_million: \t\t\tNumber of COVID-19 patients in intensive care units (ICUs) on a given day per 1,000,000 people<br>\n",
    "hosp_patients: \t\t\t\tNumber of COVID-19 patients in hospital on a given day<br>\n",
    "hosp_patients_per_million: \t\t\tNumber of COVID-19 patients in hospital on a given day per 1,000,000 people<br>\n",
    "weekly_icu_admissions: \t\t\tNumber of COVID-19 patients newly admitted to intensive care units (ICUs) in a given week<br>\n",
    "weekly_icu_admissions_per_million: \t\tNumber of COVID-19 patients newly admitted to intensive care units (ICUs) in a given week per 1,000,000 \t\t\t\t\tpeople<br>\n",
    "weekly_hosp_admissions: \t\t\tNumber of COVID-19 patients newly admitted to hospitals in a given week<br>\n",
    "weekly_hosp_admissions_per_million: \t\tNumber of COVID-19 patients newly admitted to hospitals in a given week per 1,000,000 people<br>\n",
    "\n",
    "\n",
    ">**Policy responses**<br>\n",
    "stringency_index: \t\t\t\tGovernment Response Stringency Index: composite measure based on 9 response indicators including \t\t\t\t\t\t\tschool closures, workplace closures, and travel bans, rescaled to a value from 0 to 100 (100 = strictest \t\t\t\t\t\t\tresponse)<br>\n",
    "\n",
    ">**Reproduction rate**<br>\n",
    "reproduction_rate:\t\t\t\tReal-time estimate of the effective reproduction rate (R) of COVID-19.\n",
    "The basic reproduction number, also known as the R or R0, is the average number of people one person with an infectious disease will likely infect in the future.\n",
    "<br>\n",
    "\n",
    "\n",
    ">**Tests & positivity**<br>\n",
    "total_tests: \t\t\t\tTotal tests for COVID-19<br>\n",
    "new_tests: \t\t\t\tNew tests for COVID-19 (only calculated for consecutive days)<br>\n",
    "total_tests_per_thousand: \t\t\tTotal tests for COVID-19 per 1,000 people<br>\n",
    "new_tests_per_thousand: \t\t\tNew tests for COVID-19 per 1,000 people<br>\n",
    "new_tests_smoothed: \t\t\tNew tests for COVID-19 (7-day smoothed). For countries that don't report testing data on a daily basis, we \t\t\t\t\t\t\tassume that testing changed equally on a daily basis over any periods in which no data was reported. This \t\t\t\t\t\t\tproduces a complete series of daily figures, which is then averaged over a rolling 7-day window<br>\n",
    "new_tests_smoothed_per_thousand: \t\tNew tests for COVID-19 (7-day smoothed) per 1,000 people<br>\n",
    "positive_rate: \t\t\t\tThe share of COVID-19 tests that are positive, given as a rolling 7-day average (this is the inverse of \t\t\t\t\ttests_per_case)<br>\n",
    "tests_per_case: \t\t\t\tTests conducted per new confirmed case of COVID-19, given as a rolling 7-day average (this is the inverse of \t\t\t\t\tpositive_rate)<br>\n",
    "tests_units: \t\t\t\tUnits used by the location to report its testing data<br>\n",
    "\n",
    "\n",
    ">**Vaccinations**<br>\n",
    "total_vaccinations: \t\t\t\tTotal number of COVID-19 vaccination doses administered<br>\n",
    "people_vaccinated: \t\t\t\tTotal number of people who received at least one vaccine dose<br>\n",
    "people_fully_vaccinated: \t\t\tTotal number of people who received all doses prescribed by the vaccination protocol<br>\n",
    "total_boosters: \t\t\t\tTotal number of COVID-19 vaccination booster doses administered (doses administered beyond the \t\t\t\t\t\t\tnumber prescribed by the vaccination protocol)<br>\n",
    "new_vaccinations: \t\t\t\tNew COVID-19 vaccination doses administered (only calculated for consecutive days)<br>\n",
    "new_vaccinations_smoothed: \t\t\tNew COVID-19 vaccination doses administered (7-day smoothed). For countries that don't report \t\t\t\t\t\t\tvaccination data on a daily basis, we assume that vaccination changed equally on a daily basis over any \t\t\t\t\t\t\tperiods in which no data was reported. This produces a complete series of daily figures, which is then \t\t\t\t\t\t\taveraged over a rolling 7-day window<br>\n",
    "total_vaccinations_per_hundred: \t\tTotal number of COVID-19 vaccination doses administered per 100 people in the total population<br>\n",
    "people_vaccinated_per_hundred: \t\tTotal number of people who received at least one vaccine dose per 100 people in the total population<br>\n",
    "people_fully_vaccinated_per_hundred: \t\tTotal number of people who received all doses prescribed by the vaccination protocol per 100 people in the \t\t\t\t\ttotal population<br>\n",
    "total_boosters_per_hundred: \t\t\tTotal number of COVID-19 vaccination booster doses administered per 100 people in the total population<br>\n",
    "new_vaccinations_smoothed_per_million: \tNew COVID-19 vaccination doses administered (7-day smoothed) per 1,000,000 people in the total \t\t\t\t\t\t\tpopulation<br>\n",
    "new_people_vaccinated_smoothed: \t\tDaily number of people receiving their first vaccine dose (7-day smoothed)<br>\n",
    "new_people_vaccinated_smoothed_per_hundred: \tDaily number of people receiving their first vaccine dose (7-day smoothed) per 100 people in the total \t\t\t\t\t\t\tpopulation<br>\n",
    "\n",
    "\n",
    ">**Others**<br>\n",
    "iso_code: \t\t\t\t\tISO 3166-1 alpha-3 – three-letter country codes<br>\n",
    "continent: \t\t\t\t\tContinent of the geographical location<br>\n",
    "location: \t\t\t\t\tGeographical location<br>\n",
    "date: \t\t\t\t\tDate of observation<br>\n",
    "population: \t\t\t\tPopulation (latest available values)<br> \n",
    "population_density: \t\t\t\tNumber of people divided by land area, measured in square kilometers, most recent year available<br>\n",
    "median_age: \t\t\t\tMedian age of the population, UN projection for 2020<br>\n",
    "aged_65_older: \t\t\t\tShare of the population that is 65 years and older, most recent year available<br>\n",
    "aged_70_older: \t\t\t\tShare of the population that is 70 years and older in 2015<br>\n",
    "gdp_per_capita: \t\t\t\tGross domestic product at purchasing power parity (constant 2011 international dollars), most recent year \t\t\t\t\t\tavailable<br>\n",
    "extreme_poverty: \t\t\t\tShare of the population living in extreme poverty, most recent year available since 2010<br>\n",
    "cardiovasc_death_rate: \t\t\tDeath rate from cardiovascular disease in 2017 (annual number of deaths per 100,000 people)<br>\n",
    "diabetes_prevalence: \t\t\tDiabetes prevalence (% of population aged 20 to 79) in 2017<br>\n",
    "female_smokers: \t\t\t\tShare of women who smoke, most recent year available<br>\n",
    "male_smokers: \t\t\t\tShare of men who smoke, most recent year available<br>\n",
    "handwashing_facilities: \t\t\tShare of the population with basic handwashing facilities on premises, most recent year available<br>\n",
    "hospital_beds_per_thousand: \t\t\tHospital beds per 1,000 people, most recent year available since 2010<br>\n",
    "life_expectancy: \t\t\t\tLife expectancy at birth in 2019<br>\n",
    "human_development_index: \t\t\tA composite index measuring average achievement in three basic dimensions of human development—a \t\t\t\t\t\t\tlong and healthy life, knowledge and a decent standard of living. Values for 2019, imported from \t\t\t\t\t\t\thttp://hdr.undp.org/en/indicators/137506<br>\n"
   ]
  },
  {
   "cell_type": "markdown",
   "id": "88ebef88",
   "metadata": {},
   "source": [
    "### How would you measure the effectiveness of a good algorithm?<br>\n",
    "In order to evaluate the precision and accuracy of our derived model, we can use Mean Squared Error (MSE), Root Mean Squared Error (RMSE), Mean Absolute Error (MAE), and cross-validation. Given that we have a limited number of outliers in the dataset, we feel that using **RMSE with 10-fold cross-validation** is an appropriate choice. While RMSE is more sensitive to outliers than the MAE, the RMSE performs very well and is generally preferred.\n",
    "\n",
    "**TODO: we need to discuss what we want to use here: homogeneity, completeness, ...?**"
   ]
  },
  {
   "cell_type": "markdown",
   "id": "fef8b304",
   "metadata": {},
   "source": [
    "### Why does your chosen validation method make sense for this specific dataset and the stakeholders needs? <br>\n",
    "**TODO: can be done once we have decided the criteria in the section above**"
   ]
  },
  {
   "cell_type": "markdown",
   "id": "3b292db3",
   "metadata": {},
   "source": [
    "## Data Understanding 1 - Alex"
   ]
  },
  {
   "cell_type": "markdown",
   "id": "83be9722",
   "metadata": {},
   "source": [
    "### Describe the meaning and type of data (scale, values, etc.) for each attribute in the data file.  \n",
    "\n",
    "The source dataset contains 154105 observations and 67 attributes. As there are attributes in this dataset that are updated daily, the data used in this report was downloaded from the source on January 15, 2022 at 1:00 PM CST. In order to analyze the data for this report, some attributes in the dataset were manipulated or eliminated. Table 1 outlines the final list of attributes used for this report and descriptions for each.\n",
    "\n",
    "\n",
    "\n",
    "<p><center>Table 1: Attributes</center></p>\n",
    "\n",
    "| Variable Name                  | Data Type | Description                                                                                                                                                                                                                                                                                                                                           |\n",
    "|--------------------------------|-----------|-------------------------------------------------------------------------------------------------------------------------------------------------------------------------------------------------------------------------------------------------------------------------------------------------------------------------------------------------------|\n",
    "| continent                      | object    | Continent of the geographical location                                                                                                                                                                                                                                                                                                                |\n",
    "| location                       | object    | Geographical location                                                                                                                                                                                                                                                                                                                                 |\n",
    "| date                           | object    | Date of observation                                                                                                                                                                                                                                                                                                                                   |\n",
    "| new_cases                      | numerical | New confirmed cases of COVID-19                                                                                                                                                                                                                                                                                                                       |\n",
    "| new_cases_smoothed             | numerical | New confirmed cases of COVID-19 (7-day smoothed)                                                                                                                                                                                                                                                                                                      |\n",
    "| new_deaths                     | numerical | New deaths attributed to COVID-19                                                                                                                                                                                                                                                                                                                     |\n",
    "| new_deaths_smoothed            | numerical | New deaths attributed to COVID-19 (7-day smoothed)                                                                                                                                                                                                                                                                                                    |\n",
    "| reproduction_rate              | numerical | Real-time estimate of the effective reproduction rate (R) of COVID-19                                                                                                                                                                                                                                                                                 |\n",
    "| new_tests                      | numerical | New tests for COVID-19 (only calculated for consecutive days)                                                                                                                                                                                                                                                                                         |\n",
    "| new_tests_smoothed             | numerical | New tests for COVID-19 (7-day smoothed).  For countries that don't report testing data on a  daily basis, we assume that testing changed equally  on a daily basis over any periods in which no data was reported.  This produces a complete series of daily figures,  which is then averaged over a rolling 7-day window                             |\n",
    "| positive_rate                  | numerical | The share of COVID-19 tests that are positive,  given as a rolling 7-day average (this is the inverse of tests_per_case)                                                                                                                                                                                                                              |\n",
    "| tests_per_case                 | numerical | Tests conducted per new confirmed case of COVID-19, given as a rolling 7-day average  (this is the inverse of positive_rate)                                                                                                                                                                                                                          |\n",
    "| people_fully_vaccinated        | numerical | Total number of people who received all doses prescribed by the vaccination protocol                                                                                                                                                                                                                                                                  |\n",
    "| new_vaccinations               | numerical | New COVID-19 vaccination doses administered (only calculated for consecutive days)                                                                                                                                                                                                                                                                    |\n",
    "| new_vaccinations_smoothed      | numerical | New COVID-19 vaccination doses administered (7-day smoothed).  For countries that don't report vaccination data on a daily basis,  we assume that vaccination changed equally on a daily basis over any periods in which  no data was reported. This produces a complete series of daily figures, which is  then averaged over a rolling 7-day window |\n",
    "| new_people_vaccinated_smoothed | numerical | Daily number of people receiving their first vaccine dose (7-day smoothed)                                                                                                                                                                                                                                                                            |\n",
    "| stringency_index               | numerical | Government Response Stringency Index: composite measure based on 9 response  indicators including school closures, workplace closures,  and travel bans, rescaled to a value from 0 to 100 (100 = strictest response)                                                                                                                                 |\n",
    "| population                     | numerical | Population                                                                                                                                                                                                                                                                                                                                            |\n",
    "| population_density             | numerical | Number of people divided by land area, measured in square kilometers,  most recent year available                                                                                                                                                                                                                                                     |\n",
    "| median_age                     | numerical | Median age of the population, UN projection for 2020                                                                                                                                                                                                                                                                                                  |\n",
    "| aged_65_older                  | numerical | Share of the population that is 65 years and older, most recent year available                                                                                                                                                                                                                                                                        |\n",
    "| aged_70_older                  | numerical | Share of the population that is 70 years and older in 2015                                                                                                                                                                                                                                                                                            |\n",
    "| gdp_per_capita                 | numerical | Gross domestic product at purchasing power parity  (constant 2011 international dollars),  most recent year available                                                                                                                                                                                                                                 |\n",
    "| extreme_poverty                | numerical | Share of the population living in extreme poverty,  most recent year available since 2010                                                                                                                                                                                                                                                             |\n",
    "| cardiovasc_death_rate          | numerical | Death rate from cardiovascular disease in 2017 (annual number of deaths per 100,000 people)                                                                                                                                                                                                                                                           |\n",
    "| diabetes_prevalence            | numerical | Diabetes prevalence (% of population aged 20 to 79) in 2017                                                                                                                                                                                                                                                                                           |\n",
    "| female_smokers                 | numerical | Share of women who smoke, most recent year available                                                                                                                                                                                                                                                                                                  |\n",
    "| male_smokers                   | numerical | Share of men who smoke, most recent year available                                                                                                                                                                                                                                                                                                    |\n",
    "| handwashing_facilities         | numerical | Share of the population with basic handwashing facilities on premises,  most recent year available                                                                                                                                                                                                                                                    |\n",
    "| hospital_beds_per_thousand     | numerical | Hospital beds per 1,000 people, most recent year available since 2010                                                                                                                                                                                                                                                                                 |\n",
    "| life_expectancy                | numerical | Life expectancy at birth in 2019                                                                                                                                                                                                                                                                                                                      |\n",
    "| human_development_index        | numerical | A composite index measuring average achievement in three basic  dimensions of human development—a long and healthy life,  knowledge and a decent standard of living.                                                                                                                                                                                  |"
   ]
  },
  {
   "cell_type": "code",
   "execution_count": 1,
   "id": "bb0a501f",
   "metadata": {},
   "outputs": [],
   "source": [
    "from __future__ import print_function\n",
    "\n",
    "#Libraries\n",
    "import plotly\n",
    "import numpy as np\n",
    "import matplotlib.pyplot as plt\n",
    "import seaborn as sns\n",
    "import pandas as pd\n",
    "import sqlite3\n",
    "import time\n",
    "from sklearn import datasets, linear_model\n",
    "from sklearn.metrics import mean_squared_error, r2_score\n",
    "from matplotlib.pyplot import figure\n",
    "from sklearn.model_selection import TimeSeriesSplit\n",
    "import random as rd\n",
    "from sklearn.neighbors import KNeighborsClassifier\n",
    "from sklearn.linear_model import LogisticRegression\n",
    "from sklearn.model_selection import KFold\n",
    "from sklearn.linear_model import LinearRegression\n",
    "from sklearn import metrics as mt\n",
    "from sklearn.metrics import mean_absolute_error, make_scorer, mean_squared_error\n",
    "from sklearn.model_selection import ShuffleSplit\n",
    "from sklearn.linear_model import LinearRegression, TheilSenRegressor\n",
    "from sklearn.linear_model import RANSACRegressor\n",
    "from sklearn.preprocessing import StandardScaler\n",
    "from sklearn.ensemble import RandomForestRegressor\n",
    "from sklearn.model_selection import train_test_split\n",
    "from sklearn.inspection import permutation_importance\n",
    "from yellowbrick.regressor import PredictionError"
   ]
  },
  {
   "cell_type": "code",
   "execution_count": 2,
   "id": "5e806d11",
   "metadata": {},
   "outputs": [
    {
     "name": "stdout",
     "output_type": "stream",
     "text": [
      "<class 'pandas.core.frame.DataFrame'>\n",
      "RangeIndex: 154105 entries, 0 to 154104\n",
      "Data columns (total 67 columns):\n",
      " #   Column                                      Non-Null Count   Dtype  \n",
      "---  ------                                      --------------   -----  \n",
      " 0   iso_code                                    154105 non-null  object \n",
      " 1   continent                                   144825 non-null  object \n",
      " 2   location                                    154105 non-null  object \n",
      " 3   date                                        154105 non-null  object \n",
      " 4   total_cases                                 151434 non-null  float64\n",
      " 5   new_cases                                   151379 non-null  float64\n",
      " 6   new_cases_smoothed                          150228 non-null  float64\n",
      " 7   total_deaths                                134139 non-null  float64\n",
      " 8   new_deaths                                  134314 non-null  float64\n",
      " 9   new_deaths_smoothed                         134182 non-null  float64\n",
      " 10  total_cases_per_million                     150728 non-null  float64\n",
      " 11  new_cases_per_million                       150673 non-null  float64\n",
      " 12  new_cases_smoothed_per_million              149527 non-null  float64\n",
      " 13  total_deaths_per_million                    133446 non-null  float64\n",
      " 14  new_deaths_per_million                      133621 non-null  float64\n",
      " 15  new_deaths_smoothed_per_million             133489 non-null  float64\n",
      " 16  reproduction_rate                           116265 non-null  float64\n",
      " 17  icu_patients                                20354 non-null   float64\n",
      " 18  icu_patients_per_million                    20354 non-null   float64\n",
      " 19  hosp_patients                               21529 non-null   float64\n",
      " 20  hosp_patients_per_million                   21529 non-null   float64\n",
      " 21  weekly_icu_admissions                       4277 non-null    float64\n",
      " 22  weekly_icu_admissions_per_million           4277 non-null    float64\n",
      " 23  weekly_hosp_admissions                      8669 non-null    float64\n",
      " 24  weekly_hosp_admissions_per_million          8669 non-null    float64\n",
      " 25  new_tests                                   61016 non-null   float64\n",
      " 26  total_tests                                 62651 non-null   float64\n",
      " 27  total_tests_per_thousand                    62651 non-null   float64\n",
      " 28  new_tests_per_thousand                      61016 non-null   float64\n",
      " 29  new_tests_smoothed                          74332 non-null   float64\n",
      " 30  new_tests_smoothed_per_thousand             73626 non-null   float64\n",
      " 31  positive_rate                               69422 non-null   float64\n",
      " 32  tests_per_case                              68765 non-null   float64\n",
      " 33  tests_units                                 75827 non-null   object \n",
      " 34  total_vaccinations                          39909 non-null   float64\n",
      " 35  people_vaccinated                           38187 non-null   float64\n",
      " 36  people_fully_vaccinated                     35353 non-null   float64\n",
      " 37  total_boosters                              12943 non-null   float64\n",
      " 38  new_vaccinations                            33034 non-null   float64\n",
      " 39  new_vaccinations_smoothed                   72914 non-null   float64\n",
      " 40  total_vaccinations_per_hundred              39909 non-null   float64\n",
      " 41  people_vaccinated_per_hundred               38187 non-null   float64\n",
      " 42  people_fully_vaccinated_per_hundred         35353 non-null   float64\n",
      " 43  total_boosters_per_hundred                  12943 non-null   float64\n",
      " 44  new_vaccinations_smoothed_per_million       72914 non-null   float64\n",
      " 45  new_people_vaccinated_smoothed              71946 non-null   float64\n",
      " 46  new_people_vaccinated_smoothed_per_hundred  71946 non-null   float64\n",
      " 47  stringency_index                            120783 non-null  float64\n",
      " 48  population                                  153082 non-null  float64\n",
      " 49  population_density                          137166 non-null  float64\n",
      " 50  median_age                                  127986 non-null  float64\n",
      " 51  aged_65_older                               126596 non-null  float64\n",
      " 52  aged_70_older                               127299 non-null  float64\n",
      " 53  gdp_per_capita                              128418 non-null  float64\n",
      " 54  extreme_poverty                             84750 non-null   float64\n",
      " 55  cardiovasc_death_rate                       126985 non-null  float64\n",
      " 56  diabetes_prevalence                         133496 non-null  float64\n",
      " 57  female_smokers                              98353 non-null   float64\n",
      " 58  male_smokers                                96937 non-null   float64\n",
      " 59  handwashing_facilities                      63602 non-null   float64\n",
      " 60  hospital_beds_per_thousand                  114719 non-null  float64\n",
      " 61  life_expectancy                             143820 non-null  float64\n",
      " 62  human_development_index                     126460 non-null  float64\n",
      " 63  excess_mortality_cumulative_absolute        5234 non-null    float64\n",
      " 64  excess_mortality_cumulative                 5234 non-null    float64\n",
      " 65  excess_mortality                            5234 non-null    float64\n",
      " 66  excess_mortality_cumulative_per_million     5234 non-null    float64\n",
      "dtypes: float64(62), object(5)\n",
      "memory usage: 78.8+ MB\n"
     ]
    }
   ],
   "source": [
    "#Loading in the CSV file and displaying the resulting dataframe\n",
    "covid_data = pd.read_csv('data/owid-covid-data.csv')\n",
    "covid_data.info()"
   ]
  },
  {
   "cell_type": "markdown",
   "id": "70c1514a",
   "metadata": {},
   "source": [
    "The description of all 67 fields of the data attributes can be found at https://ourworldindata.org/coronavirus. We only used 37 of the 67 attributes because a lot of the attributes were daily total which didn't work well for predictions and they had daily current counts that worked better.  Also, some of the attributes , like tests_units would not be relevant to predictions.  A few of the fields, such as excess_mortality, total_boosters, weekly_hospital_admissions, and weekly_icu admissions had so many missing entries that they were useless."
   ]
  },
  {
   "cell_type": "markdown",
   "id": "fb3f8832",
   "metadata": {},
   "source": [
    "|                                               |       Eliminated Attributes               |                                                     |   |\n",
    "|-----------------------------------------------|:-----------------------------------------:|-----------------------------------------------------|---|\n",
    "| #0 iso_code                                   | #21    weekly_icu_admissions              | #33  tests_units                                    |   |\n",
    "| #4 total_cases                                | #22    weekly_icu_admissions_per_million  | #34 total_vaccinations                              |   |\n",
    "| #7 total_deaths                               | #23  weekly_hosp_admissions               | #35 people_vaccinated                               |   |\n",
    "| #10 total_cases_per_million                   | #24    weekly_hosp_admissions_per_million | #36 people_fully_vaccinated                         |   |\n",
    "| #11 new_cases_per_million                     | #25 new_tests                             | #37 total_boosters                                  |   |\n",
    "| #12 new_cases_smoothed_per_million            | #26 total_tests                           | #38 new_vaccinations                                |   |\n",
    "| #13 total_deaths_per_million                  | #27 total_tests_per_thousand              | #40   total_vaccinations_per_hundred                |   |\n",
    "| #14 total_death_per_million                   | #28  new_tests_per_thousand               | #41 people_vaccinated_per_hundred                   |   |\n",
    "| #15 new_deaths_smoothed_per_million           | #29 new_tests_smoothed                    | #42    people_fully_vaccinated_per_hundred          |   |\n",
    "| #17    icu_patients                           | #30    new_tests_smoothed_per_thousand    | #43    total_boosters_per_hundred                   |   |\n",
    "| #18 icu_patients_per_million                  | #31 positive_rate                         | #44    new_vaccinations_smoothed_per_million        |   |\n",
    "| #19    hosp_patients                          | #32 tests_per_case                        | #46   new_people_vaccinated_smoothed_per_hundred    |   |\n",
    "| #20 hosp_patients_per_million                 | #57 female_smokers                        | #54 extreme_poverty                                 |   |\n",
    "| #58 male_smokers                              | #64  excess_mortality_cumulative          | #66   excess_mortality_cumulative_per_million       |   |\n",
    "| #63    excess_mortality_cumulative_absolute   | #65  excess_mortality                     |                                                     |   |"
   ]
  },
  {
   "cell_type": "code",
   "execution_count": 3,
   "id": "bd28ce2e",
   "metadata": {},
   "outputs": [
    {
     "name": "stdout",
     "output_type": "stream",
     "text": [
      "<class 'pandas.core.frame.DataFrame'>\n",
      "RangeIndex: 154105 entries, 0 to 154104\n",
      "Data columns (total 67 columns):\n",
      " #   Column                                      Non-Null Count   Dtype  \n",
      "---  ------                                      --------------   -----  \n",
      " 0   iso_code                                    154105 non-null  object \n",
      " 1   continent                                   144825 non-null  object \n",
      " 2   location                                    154105 non-null  object \n",
      " 3   date                                        154105 non-null  object \n",
      " 4   total_cases                                 151434 non-null  float64\n",
      " 5   new_cases                                   151379 non-null  float64\n",
      " 6   new_cases_smoothed                          150228 non-null  float64\n",
      " 7   total_deaths                                134139 non-null  float64\n",
      " 8   new_deaths                                  134314 non-null  float64\n",
      " 9   new_deaths_smoothed                         134182 non-null  float64\n",
      " 10  total_cases_per_million                     150728 non-null  float64\n",
      " 11  new_cases_per_million                       150673 non-null  float64\n",
      " 12  new_cases_smoothed_per_million              149527 non-null  float64\n",
      " 13  total_deaths_per_million                    133446 non-null  float64\n",
      " 14  new_deaths_per_million                      133621 non-null  float64\n",
      " 15  new_deaths_smoothed_per_million             133489 non-null  float64\n",
      " 16  reproduction_rate                           116265 non-null  float64\n",
      " 17  icu_patients                                20354 non-null   float64\n",
      " 18  icu_patients_per_million                    20354 non-null   float64\n",
      " 19  hosp_patients                               21529 non-null   float64\n",
      " 20  hosp_patients_per_million                   21529 non-null   float64\n",
      " 21  weekly_icu_admissions                       4277 non-null    float64\n",
      " 22  weekly_icu_admissions_per_million           4277 non-null    float64\n",
      " 23  weekly_hosp_admissions                      8669 non-null    float64\n",
      " 24  weekly_hosp_admissions_per_million          8669 non-null    float64\n",
      " 25  new_tests                                   61016 non-null   float64\n",
      " 26  total_tests                                 62651 non-null   float64\n",
      " 27  total_tests_per_thousand                    62651 non-null   float64\n",
      " 28  new_tests_per_thousand                      61016 non-null   float64\n",
      " 29  new_tests_smoothed                          74332 non-null   float64\n",
      " 30  new_tests_smoothed_per_thousand             73626 non-null   float64\n",
      " 31  positive_rate                               69422 non-null   float64\n",
      " 32  tests_per_case                              68765 non-null   float64\n",
      " 33  tests_units                                 75827 non-null   object \n",
      " 34  total_vaccinations                          39909 non-null   float64\n",
      " 35  people_vaccinated                           38187 non-null   float64\n",
      " 36  people_fully_vaccinated                     35353 non-null   float64\n",
      " 37  total_boosters                              12943 non-null   float64\n",
      " 38  new_vaccinations                            33034 non-null   float64\n",
      " 39  new_vaccinations_smoothed                   72914 non-null   float64\n",
      " 40  total_vaccinations_per_hundred              39909 non-null   float64\n",
      " 41  people_vaccinated_per_hundred               38187 non-null   float64\n",
      " 42  people_fully_vaccinated_per_hundred         35353 non-null   float64\n",
      " 43  total_boosters_per_hundred                  12943 non-null   float64\n",
      " 44  new_vaccinations_smoothed_per_million       72914 non-null   float64\n",
      " 45  new_people_vaccinated_smoothed              71946 non-null   float64\n",
      " 46  new_people_vaccinated_smoothed_per_hundred  71946 non-null   float64\n",
      " 47  stringency_index                            120783 non-null  float64\n",
      " 48  population                                  153082 non-null  float64\n",
      " 49  population_density                          137166 non-null  float64\n",
      " 50  median_age                                  127986 non-null  float64\n",
      " 51  aged_65_older                               126596 non-null  float64\n",
      " 52  aged_70_older                               127299 non-null  float64\n",
      " 53  gdp_per_capita                              128418 non-null  float64\n",
      " 54  extreme_poverty                             84750 non-null   float64\n",
      " 55  cardiovasc_death_rate                       126985 non-null  float64\n",
      " 56  diabetes_prevalence                         133496 non-null  float64\n",
      " 57  female_smokers                              98353 non-null   float64\n",
      " 58  male_smokers                                96937 non-null   float64\n",
      " 59  handwashing_facilities                      63602 non-null   float64\n",
      " 60  hospital_beds_per_thousand                  114719 non-null  float64\n",
      " 61  life_expectancy                             143820 non-null  float64\n",
      " 62  human_development_index                     126460 non-null  float64\n",
      " 63  excess_mortality_cumulative_absolute        5234 non-null    float64\n",
      " 64  excess_mortality_cumulative                 5234 non-null    float64\n",
      " 65  excess_mortality                            5234 non-null    float64\n",
      " 66  excess_mortality_cumulative_per_million     5234 non-null    float64\n",
      "dtypes: float64(62), object(5)\n",
      "memory usage: 78.8+ MB\n"
     ]
    }
   ],
   "source": [
    "#Original Source Data\n",
    "\n",
    "covid_data.info()"
   ]
  },
  {
   "cell_type": "markdown",
   "id": "4b092433",
   "metadata": {},
   "source": [
    "**TODO: discuss if we still need the 3 range varialbes in the section below\n",
    "Also, discuss if I should remove the 1-hot encoding (since we didn't use it anyway)**"
   ]
  },
  {
   "cell_type": "code",
   "execution_count": 4,
   "id": "d807aab1",
   "metadata": {},
   "outputs": [],
   "source": [
    "# Prepare the variables\n",
    "\n",
    "# Dropping attributes that are highly correlated or have many missing values (based on lab 1 analysis)\n",
    "covid_df = covid_data.drop(covid_data.columns[[0,4,7,10,11,12,13,14,15,17,18,19,20,21,22,23,24,25,26,\n",
    "                                                     27,28,29,30,31,32,\n",
    "                                                     33,34,35,36,37,38,40,41,42,43,44,46,54,57,58,63,64,65,66]], axis=1)\n",
    "\n",
    "# Removing dates before July 1st, 2021 and after December 31, 2021 to have a more manageable data set (with still more than 30,000 rows)\n",
    "covid_df = covid_df[covid_df.date >= '2021-07-01']\n",
    "covid_df = covid_df[covid_df.date <= '2021-12-31']\n",
    "\n",
    "# Removing Oceania because it has a lot of missing values (based on lab 1 analysis)\n",
    "covid_df = covid_df[~covid_df.continent.isin(['Oceania'])]\n",
    "\n",
    "# Removing several countries with a lot of missing values (based on lab 1 analysis)\n",
    "covid_df = covid_df[~covid_df.location.isin(['Turkmenistan', 'Northern Cyprus', 'Sint Maarten (Dutch part)', 'Jersey', 'Guernsey', 'Laos', 'Macao', 'Timor', 'Vatican', 'Saint Kitts and Nevis', 'Saint Vincent and the Grenadines', 'Saint Pierre and Miquelon', 'St. Helena', 'Cook Island', 'Greenland', 'Gibraltar', 'Anguilla'])]\n",
    "\n",
    "# Handling missing values: our models cannot be trained on data set with missing data.\n",
    "# We already removed columns and rows that have many missing data and we will impute the remaining missing data.\n",
    "# Since we are dealing with data collected over time, we have to account for the temporal autocorrelation. \n",
    "# So, instead of using the column mean or median to fill-in the missing data, we chose to interpolate it.\n",
    "covid_df = covid_df.interpolate()\n",
    "\n",
    "# Creating a new category variable for stringency index that can be used for categorization\n",
    "covid_df['stringency_range'] = pd.cut(covid_df.stringency_index,[0,10,20,30,40,50,60,70,80,90,100],10,labels=['0-10','10-20','20-30','30-40','40-50','50-60','60-70','70-80','80-90','90-100']) # creating a new variable\n",
    "\n",
    "# Creating a new category variable for new_cases that can be used for categorization\n",
    "covid_df['new_cases_range'] = pd.qcut(covid_df.new_cases, 3, labels=[\"low\", \"medium\", \"high\"])\n",
    "\n",
    "# Creating a new category variable for new_deaths that can be used for categorization\n",
    "covid_df['new_deaths_range'] = pd.qcut(covid_df.new_deaths, 3, labels=[\"low\", \"medium\", \"high\"])\n",
    "\n",
    "# Ideas from https://scikit-learn.org/stable/modules/cross_validation.html#timeseries-cv\n",
    "# Sorting data frame by date column\n",
    "covid_df['date'] = pd.to_datetime(covid_df['date']) # Converting data columnn to datetime\n",
    "covid_df = covid_df.sort_values(by='date', ascending=True)\n",
    "\n",
    "# Performing one hot encoding of the location variable - we will not use it in the final model, the explanation is in the next cell\n",
    "categ_features = ['location'];\n",
    "one_hot_df = pd.concat([pd.get_dummies(covid_df[col],prefix=col) for col in categ_features], axis=1)\n",
    "\n",
    "# Dropping more attributes that are highly correlated or have many missing values (based on lab 1 analysis) or that will not be used for this analysis (stringency_range and new_deaths_range)\n",
    "covid_df = covid_df.drop([\"new_deaths_smoothed\",\n",
    "                    \"new_cases\",\n",
    "                    \"new_cases_smoothed\",\n",
    "                    \"continent\",\n",
    "                    \"location\",\n",
    "                    \"stringency_range\",\n",
    "                    \"date\",\n",
    "                    \"new_people_vaccinated_smoothed\",\n",
    "                    \"population_density\",\n",
    "                    \"aged_70_older\",\n",
    "                    \"new_deaths_range\"], axis=1)"
   ]
  },
  {
   "cell_type": "code",
   "execution_count": 5,
   "id": "3b7961f5",
   "metadata": {},
   "outputs": [
    {
     "data": {
      "text/html": [
       "<div>\n",
       "<style scoped>\n",
       "    .dataframe tbody tr th:only-of-type {\n",
       "        vertical-align: middle;\n",
       "    }\n",
       "\n",
       "    .dataframe tbody tr th {\n",
       "        vertical-align: top;\n",
       "    }\n",
       "\n",
       "    .dataframe thead th {\n",
       "        text-align: right;\n",
       "    }\n",
       "</style>\n",
       "<table border=\"1\" class=\"dataframe\">\n",
       "  <thead>\n",
       "    <tr style=\"text-align: right;\">\n",
       "      <th></th>\n",
       "      <th>location_Afghanistan</th>\n",
       "      <th>location_Africa</th>\n",
       "      <th>location_Albania</th>\n",
       "      <th>location_Algeria</th>\n",
       "      <th>location_Andorra</th>\n",
       "      <th>location_Angola</th>\n",
       "      <th>location_Antigua and Barbuda</th>\n",
       "      <th>location_Argentina</th>\n",
       "      <th>location_Armenia</th>\n",
       "      <th>location_Aruba</th>\n",
       "      <th>...</th>\n",
       "      <th>location_United States</th>\n",
       "      <th>location_Upper middle income</th>\n",
       "      <th>location_Uruguay</th>\n",
       "      <th>location_Uzbekistan</th>\n",
       "      <th>location_Venezuela</th>\n",
       "      <th>location_Vietnam</th>\n",
       "      <th>location_World</th>\n",
       "      <th>location_Yemen</th>\n",
       "      <th>location_Zambia</th>\n",
       "      <th>location_Zimbabwe</th>\n",
       "    </tr>\n",
       "  </thead>\n",
       "  <tbody>\n",
       "    <tr>\n",
       "      <th>493</th>\n",
       "      <td>1</td>\n",
       "      <td>0</td>\n",
       "      <td>0</td>\n",
       "      <td>0</td>\n",
       "      <td>0</td>\n",
       "      <td>0</td>\n",
       "      <td>0</td>\n",
       "      <td>0</td>\n",
       "      <td>0</td>\n",
       "      <td>0</td>\n",
       "      <td>...</td>\n",
       "      <td>0</td>\n",
       "      <td>0</td>\n",
       "      <td>0</td>\n",
       "      <td>0</td>\n",
       "      <td>0</td>\n",
       "      <td>0</td>\n",
       "      <td>0</td>\n",
       "      <td>0</td>\n",
       "      <td>0</td>\n",
       "      <td>0</td>\n",
       "    </tr>\n",
       "    <tr>\n",
       "      <th>24994</th>\n",
       "      <td>0</td>\n",
       "      <td>0</td>\n",
       "      <td>0</td>\n",
       "      <td>0</td>\n",
       "      <td>0</td>\n",
       "      <td>0</td>\n",
       "      <td>0</td>\n",
       "      <td>0</td>\n",
       "      <td>0</td>\n",
       "      <td>0</td>\n",
       "      <td>...</td>\n",
       "      <td>0</td>\n",
       "      <td>0</td>\n",
       "      <td>0</td>\n",
       "      <td>0</td>\n",
       "      <td>0</td>\n",
       "      <td>0</td>\n",
       "      <td>0</td>\n",
       "      <td>0</td>\n",
       "      <td>0</td>\n",
       "      <td>0</td>\n",
       "    </tr>\n",
       "    <tr>\n",
       "      <th>122783</th>\n",
       "      <td>0</td>\n",
       "      <td>0</td>\n",
       "      <td>0</td>\n",
       "      <td>0</td>\n",
       "      <td>0</td>\n",
       "      <td>0</td>\n",
       "      <td>0</td>\n",
       "      <td>0</td>\n",
       "      <td>0</td>\n",
       "      <td>0</td>\n",
       "      <td>...</td>\n",
       "      <td>0</td>\n",
       "      <td>0</td>\n",
       "      <td>0</td>\n",
       "      <td>0</td>\n",
       "      <td>0</td>\n",
       "      <td>0</td>\n",
       "      <td>0</td>\n",
       "      <td>0</td>\n",
       "      <td>0</td>\n",
       "      <td>0</td>\n",
       "    </tr>\n",
       "    <tr>\n",
       "      <th>24316</th>\n",
       "      <td>0</td>\n",
       "      <td>0</td>\n",
       "      <td>0</td>\n",
       "      <td>0</td>\n",
       "      <td>0</td>\n",
       "      <td>0</td>\n",
       "      <td>0</td>\n",
       "      <td>0</td>\n",
       "      <td>0</td>\n",
       "      <td>0</td>\n",
       "      <td>...</td>\n",
       "      <td>0</td>\n",
       "      <td>0</td>\n",
       "      <td>0</td>\n",
       "      <td>0</td>\n",
       "      <td>0</td>\n",
       "      <td>0</td>\n",
       "      <td>0</td>\n",
       "      <td>0</td>\n",
       "      <td>0</td>\n",
       "      <td>0</td>\n",
       "    </tr>\n",
       "    <tr>\n",
       "      <th>123452</th>\n",
       "      <td>0</td>\n",
       "      <td>0</td>\n",
       "      <td>0</td>\n",
       "      <td>0</td>\n",
       "      <td>0</td>\n",
       "      <td>0</td>\n",
       "      <td>0</td>\n",
       "      <td>0</td>\n",
       "      <td>0</td>\n",
       "      <td>0</td>\n",
       "      <td>...</td>\n",
       "      <td>0</td>\n",
       "      <td>0</td>\n",
       "      <td>0</td>\n",
       "      <td>0</td>\n",
       "      <td>0</td>\n",
       "      <td>0</td>\n",
       "      <td>0</td>\n",
       "      <td>0</td>\n",
       "      <td>0</td>\n",
       "      <td>0</td>\n",
       "    </tr>\n",
       "  </tbody>\n",
       "</table>\n",
       "<p>5 rows × 202 columns</p>\n",
       "</div>"
      ],
      "text/plain": [
       "        location_Afghanistan  location_Africa  location_Albania  \\\n",
       "493                        1                0                 0   \n",
       "24994                      0                0                 0   \n",
       "122783                     0                0                 0   \n",
       "24316                      0                0                 0   \n",
       "123452                     0                0                 0   \n",
       "\n",
       "        location_Algeria  location_Andorra  location_Angola  \\\n",
       "493                    0                 0                0   \n",
       "24994                  0                 0                0   \n",
       "122783                 0                 0                0   \n",
       "24316                  0                 0                0   \n",
       "123452                 0                 0                0   \n",
       "\n",
       "        location_Antigua and Barbuda  location_Argentina  location_Armenia  \\\n",
       "493                                0                   0                 0   \n",
       "24994                              0                   0                 0   \n",
       "122783                             0                   0                 0   \n",
       "24316                              0                   0                 0   \n",
       "123452                             0                   0                 0   \n",
       "\n",
       "        location_Aruba  ...  location_United States  \\\n",
       "493                  0  ...                       0   \n",
       "24994                0  ...                       0   \n",
       "122783               0  ...                       0   \n",
       "24316                0  ...                       0   \n",
       "123452               0  ...                       0   \n",
       "\n",
       "        location_Upper middle income  location_Uruguay  location_Uzbekistan  \\\n",
       "493                                0                 0                    0   \n",
       "24994                              0                 0                    0   \n",
       "122783                             0                 0                    0   \n",
       "24316                              0                 0                    0   \n",
       "123452                             0                 0                    0   \n",
       "\n",
       "        location_Venezuela  location_Vietnam  location_World  location_Yemen  \\\n",
       "493                      0                 0               0               0   \n",
       "24994                    0                 0               0               0   \n",
       "122783                   0                 0               0               0   \n",
       "24316                    0                 0               0               0   \n",
       "123452                   0                 0               0               0   \n",
       "\n",
       "        location_Zambia  location_Zimbabwe  \n",
       "493                   0                  0  \n",
       "24994                 0                  0  \n",
       "122783                0                  0  \n",
       "24316                 0                  0  \n",
       "123452                0                  0  \n",
       "\n",
       "[5 rows x 202 columns]"
      ]
     },
     "execution_count": 5,
     "metadata": {},
     "output_type": "execute_result"
    }
   ],
   "source": [
    "# We investigated one hot encoding of the location variable. \n",
    "# Unfortunately, this increase greatly the size of the model (it would have more than 200 rows) so we decided to not use the location variable in the final model\n",
    "one_hot_df.head()"
   ]
  },
  {
   "cell_type": "code",
   "execution_count": 6,
   "id": "3cbf553b",
   "metadata": {},
   "outputs": [
    {
     "name": "stdout",
     "output_type": "stream",
     "text": [
      "Size of the final dataset showing that is has more than 30,000 rows and 15 columns: (37168, 15)\n"
     ]
    }
   ],
   "source": [
    "print ('Size of the final dataset showing that is has more than 30,000 rows and 15 columns:', covid_df.shape)"
   ]
  },
  {
   "cell_type": "code",
   "execution_count": 7,
   "id": "2c5925dc",
   "metadata": {},
   "outputs": [
    {
     "name": "stdout",
     "output_type": "stream",
     "text": [
      "<class 'pandas.core.frame.DataFrame'>\n",
      "Int64Index: 37168 entries, 493 to 154092\n",
      "Data columns (total 15 columns):\n",
      " #   Column                      Non-Null Count  Dtype   \n",
      "---  ------                      --------------  -----   \n",
      " 0   new_deaths                  37168 non-null  float64 \n",
      " 1   reproduction_rate           37168 non-null  float64 \n",
      " 2   new_vaccinations_smoothed   37168 non-null  float64 \n",
      " 3   stringency_index            37168 non-null  float64 \n",
      " 4   population                  37168 non-null  float64 \n",
      " 5   median_age                  37168 non-null  float64 \n",
      " 6   aged_65_older               37168 non-null  float64 \n",
      " 7   gdp_per_capita              37168 non-null  float64 \n",
      " 8   cardiovasc_death_rate       37168 non-null  float64 \n",
      " 9   diabetes_prevalence         37168 non-null  float64 \n",
      " 10  handwashing_facilities      37168 non-null  float64 \n",
      " 11  hospital_beds_per_thousand  37168 non-null  float64 \n",
      " 12  life_expectancy             37168 non-null  float64 \n",
      " 13  human_development_index     37168 non-null  float64 \n",
      " 14  new_cases_range             37168 non-null  category\n",
      "dtypes: category(1), float64(14)\n",
      "memory usage: 4.3 MB\n"
     ]
    },
    {
     "data": {
      "text/html": [
       "<div>\n",
       "<style scoped>\n",
       "    .dataframe tbody tr th:only-of-type {\n",
       "        vertical-align: middle;\n",
       "    }\n",
       "\n",
       "    .dataframe tbody tr th {\n",
       "        vertical-align: top;\n",
       "    }\n",
       "\n",
       "    .dataframe thead th {\n",
       "        text-align: right;\n",
       "    }\n",
       "</style>\n",
       "<table border=\"1\" class=\"dataframe\">\n",
       "  <thead>\n",
       "    <tr style=\"text-align: right;\">\n",
       "      <th></th>\n",
       "      <th>new_deaths</th>\n",
       "      <th>reproduction_rate</th>\n",
       "      <th>new_vaccinations_smoothed</th>\n",
       "      <th>stringency_index</th>\n",
       "      <th>population</th>\n",
       "      <th>median_age</th>\n",
       "      <th>aged_65_older</th>\n",
       "      <th>gdp_per_capita</th>\n",
       "      <th>cardiovasc_death_rate</th>\n",
       "      <th>diabetes_prevalence</th>\n",
       "      <th>handwashing_facilities</th>\n",
       "      <th>hospital_beds_per_thousand</th>\n",
       "      <th>life_expectancy</th>\n",
       "      <th>human_development_index</th>\n",
       "      <th>new_cases_range</th>\n",
       "    </tr>\n",
       "  </thead>\n",
       "  <tbody>\n",
       "    <tr>\n",
       "      <th>493</th>\n",
       "      <td>91.0</td>\n",
       "      <td>0.98</td>\n",
       "      <td>14115.0</td>\n",
       "      <td>46.30</td>\n",
       "      <td>39835428.0</td>\n",
       "      <td>18.6</td>\n",
       "      <td>2.581</td>\n",
       "      <td>1803.987</td>\n",
       "      <td>597.029</td>\n",
       "      <td>9.59</td>\n",
       "      <td>37.746000</td>\n",
       "      <td>0.500</td>\n",
       "      <td>64.83</td>\n",
       "      <td>0.511</td>\n",
       "      <td>high</td>\n",
       "    </tr>\n",
       "    <tr>\n",
       "      <th>24994</th>\n",
       "      <td>0.0</td>\n",
       "      <td>0.35</td>\n",
       "      <td>2773.0</td>\n",
       "      <td>29.63</td>\n",
       "      <td>27224262.0</td>\n",
       "      <td>18.8</td>\n",
       "      <td>3.165</td>\n",
       "      <td>3364.926</td>\n",
       "      <td>244.661</td>\n",
       "      <td>7.20</td>\n",
       "      <td>2.735000</td>\n",
       "      <td>1.300</td>\n",
       "      <td>59.29</td>\n",
       "      <td>0.563</td>\n",
       "      <td>low</td>\n",
       "    </tr>\n",
       "    <tr>\n",
       "      <th>122783</th>\n",
       "      <td>0.0</td>\n",
       "      <td>0.88</td>\n",
       "      <td>11516.0</td>\n",
       "      <td>32.41</td>\n",
       "      <td>6871547.0</td>\n",
       "      <td>41.2</td>\n",
       "      <td>17.366</td>\n",
       "      <td>14048.881</td>\n",
       "      <td>439.415</td>\n",
       "      <td>10.08</td>\n",
       "      <td>97.719000</td>\n",
       "      <td>5.609</td>\n",
       "      <td>76.00</td>\n",
       "      <td>0.806</td>\n",
       "      <td>medium</td>\n",
       "    </tr>\n",
       "    <tr>\n",
       "      <th>24316</th>\n",
       "      <td>26.0</td>\n",
       "      <td>1.10</td>\n",
       "      <td>132856.0</td>\n",
       "      <td>72.69</td>\n",
       "      <td>16946446.0</td>\n",
       "      <td>25.6</td>\n",
       "      <td>4.412</td>\n",
       "      <td>3645.070</td>\n",
       "      <td>270.892</td>\n",
       "      <td>4.00</td>\n",
       "      <td>66.229000</td>\n",
       "      <td>0.800</td>\n",
       "      <td>69.82</td>\n",
       "      <td>0.594</td>\n",
       "      <td>high</td>\n",
       "    </tr>\n",
       "    <tr>\n",
       "      <th>123452</th>\n",
       "      <td>1.0</td>\n",
       "      <td>0.93</td>\n",
       "      <td>116.0</td>\n",
       "      <td>76.85</td>\n",
       "      <td>98910.0</td>\n",
       "      <td>36.2</td>\n",
       "      <td>8.606</td>\n",
       "      <td>26382.287</td>\n",
       "      <td>242.648</td>\n",
       "      <td>10.55</td>\n",
       "      <td>97.294978</td>\n",
       "      <td>3.600</td>\n",
       "      <td>73.40</td>\n",
       "      <td>0.796</td>\n",
       "      <td>medium</td>\n",
       "    </tr>\n",
       "  </tbody>\n",
       "</table>\n",
       "</div>"
      ],
      "text/plain": [
       "        new_deaths  reproduction_rate  new_vaccinations_smoothed  \\\n",
       "493           91.0               0.98                    14115.0   \n",
       "24994          0.0               0.35                     2773.0   \n",
       "122783         0.0               0.88                    11516.0   \n",
       "24316         26.0               1.10                   132856.0   \n",
       "123452         1.0               0.93                      116.0   \n",
       "\n",
       "        stringency_index  population  median_age  aged_65_older  \\\n",
       "493                46.30  39835428.0        18.6          2.581   \n",
       "24994              29.63  27224262.0        18.8          3.165   \n",
       "122783             32.41   6871547.0        41.2         17.366   \n",
       "24316              72.69  16946446.0        25.6          4.412   \n",
       "123452             76.85     98910.0        36.2          8.606   \n",
       "\n",
       "        gdp_per_capita  cardiovasc_death_rate  diabetes_prevalence  \\\n",
       "493           1803.987                597.029                 9.59   \n",
       "24994         3364.926                244.661                 7.20   \n",
       "122783       14048.881                439.415                10.08   \n",
       "24316         3645.070                270.892                 4.00   \n",
       "123452       26382.287                242.648                10.55   \n",
       "\n",
       "        handwashing_facilities  hospital_beds_per_thousand  life_expectancy  \\\n",
       "493                  37.746000                       0.500            64.83   \n",
       "24994                 2.735000                       1.300            59.29   \n",
       "122783               97.719000                       5.609            76.00   \n",
       "24316                66.229000                       0.800            69.82   \n",
       "123452               97.294978                       3.600            73.40   \n",
       "\n",
       "        human_development_index new_cases_range  \n",
       "493                       0.511            high  \n",
       "24994                     0.563             low  \n",
       "122783                    0.806          medium  \n",
       "24316                     0.594            high  \n",
       "123452                    0.796          medium  "
      ]
     },
     "execution_count": 7,
     "metadata": {},
     "output_type": "execute_result"
    }
   ],
   "source": [
    "# Overview of the data set:\n",
    "covid_df.info() #Dataset being analyzed (MAIN DATASET)\n",
    "covid_df.head() "
   ]
  },
  {
   "cell_type": "markdown",
   "id": "3614a67d",
   "metadata": {},
   "source": [
    "## Data Understanding 2 - Alex"
   ]
  },
  {
   "cell_type": "markdown",
   "id": "bccbeadb",
   "metadata": {},
   "source": [
    "#### Visualize the important attributes appropriately.  Important: Provide an interpretation for any charts or graphs.  <br>"
   ]
  },
  {
   "cell_type": "markdown",
   "id": "3f3c347b",
   "metadata": {},
   "source": [
    "In the following sections, we will use various graphs to show the relationship among the selected attributes. We will use these attributes: new_cases, new_deaths, reproduction_rate, cardiovasc_death_rate and stringency_index. These attributes can represent the overall status of the covid data."
   ]
  },
  {
   "cell_type": "markdown",
   "id": "d5270b56",
   "metadata": {},
   "source": [
    "We first attempted to visualize the attributes using cross tabulation between attributes and new cases. However, this is not an appropriate analytical method for the dataset as it contains no boolean attributes."
   ]
  },
  {
   "cell_type": "code",
   "execution_count": 8,
   "id": "7818f50b",
   "metadata": {},
   "outputs": [],
   "source": [
    "# boxplot = covid_df.boxplot(column=['new_deaths','new_cases'])\n",
    "# plt.yscale('log')"
   ]
  },
  {
   "cell_type": "markdown",
   "id": "121a9c7c",
   "metadata": {},
   "source": [
    "The graph suggests that the values for new_deaths tend to be lower than the values for new_cases which may confirm that most people impacted by Covid-19 will survive. Upon inspection of these two variables, we were able to see that the distributions of both attributes were not normally distributed. In order to fix this, a log transformation was performed on both attributes. The graph above shows the results of such transformation."
   ]
  },
  {
   "cell_type": "code",
   "execution_count": 9,
   "id": "9393d500",
   "metadata": {},
   "outputs": [
    {
     "data": {
      "image/png": "[encoded data removed]",
      "text/plain": [
       "<Figure size 576x396 with 1 Axes>"
      ]
     },
     "metadata": {},
     "output_type": "display_data"
    }
   ],
   "source": [
    "boxplot = covid_df.boxplot(column=[ 'reproduction_rate']) "
   ]
  },
  {
   "cell_type": "markdown",
   "id": "933abaeb",
   "metadata": {},
   "source": [
    "The reproduction rate, or reproduction number, is an epidemiologic metric used to describe the contagiousness or transmissibility of infections agents. Outbreaks are expected to continue if this rate is larger than one. If the rate is less than one, then the outbreak is beginning to slow or decrease overall. The mean and median values for reproduction_rate in this dataset are centered around 1. At 1, we would expect a strong level of contagiousness or transmissibility. This graph also identifies that there are many outliers far greater than 1. Those outliers could be due to the Omicron variant that is more transmissible than the previous variants. Those specific outliers would be good candidates for inspection in a future analysis."
   ]
  },
  {
   "cell_type": "code",
   "execution_count": 10,
   "id": "9ca40e81",
   "metadata": {},
   "outputs": [
    {
     "data": {
      "image/png": "[encoded data removed]",
      "text/plain": [
       "<Figure size 576x396 with 1 Axes>"
      ]
     },
     "metadata": {},
     "output_type": "display_data"
    }
   ],
   "source": [
    "boxplot = covid_df.boxplot(column=[ 'stringency_index'])"
   ]
  },
  {
   "cell_type": "markdown",
   "id": "2f0d6c2c",
   "metadata": {},
   "source": [
    "The graph suggest that most locations adopted moderate restrictions during the pandemic. Furthermore, some locations did not adopt any restrictions."
   ]
  },
  {
   "cell_type": "markdown",
   "id": "2439d862",
   "metadata": {},
   "source": [
    "sns.set_style(\"whitegrid\");\n",
    "sns.histplot(x =\"stringency_index\",\n",
    "             hue = 'continent',\n",
    "            palette = \"colorblind\",\n",
    "            data = covid_df );"
   ]
  },
  {
   "cell_type": "markdown",
   "id": "bf63bfec",
   "metadata": {},
   "source": [
    "Grouping the data by continent, we created a historgram of stringency_index. The data suggests that continents had many countries that exhibited a stringency_index between 40 and 50. However, Africa seems to show that there were a number of countries with a stringency_index lower than 20. This could be due to Africa not having enough reported data. "
   ]
  },
  {
   "cell_type": "code",
   "execution_count": 11,
   "id": "dd76acc0",
   "metadata": {},
   "outputs": [
    {
     "data": {
      "image/png": "[encoded data removed]",
      "text/plain": [
       "<Figure size 576x396 with 1 Axes>"
      ]
     },
     "metadata": {},
     "output_type": "display_data"
    }
   ],
   "source": [
    "boxplot = covid_df.boxplot(column=[ 'cardiovasc_death_rate'])"
   ]
  },
  {
   "cell_type": "markdown",
   "id": "3a1d038a",
   "metadata": {},
   "source": [
    "This boxplot shows that the values for the cardiovascular death rate were centered around 200 and 300 deaths per 100,000 people. After inspection, this attribute may not be useful in future models due to its relevance."
   ]
  },
  {
   "cell_type": "markdown",
   "id": "45510652",
   "metadata": {},
   "source": [
    "selected_columns = covid_df[[\"new_deaths\",\"human_development_index\",\"reproduction_rate\",\"stringency_index\",\"new_people_vaccinated_smoothed\",\"new_cases\"]]\n",
    "new_df = selected_columns.copy()\n",
    "print(new_df)\n",
    "corr = new_df.corr()\n",
    "ax = sns.heatmap(\n",
    "    corr, \n",
    "    vmin=-1, vmax = 1, center =0,\n",
    "    cmap=sns.diverging_palette(50, 5000, n=200),\n",
    "    square=True\n",
    ")"
   ]
  },
  {
   "cell_type": "markdown",
   "id": "be5c429e",
   "metadata": {},
   "source": [
    "**Human Development Index,Reproduction Rate,Stringency index,New People Vaccinated Smoothed,New Deaths, and New Cases Heatmap** It is interesting to see that the New-people-vaccinated-smoothed attribute is more correlated with new-deaths than with new-cases.  I would assume that the more people who die because of this disease, the more one would want to get vaccinated for it (or governments pushing for vaccinations).  Another interesting feature of this graph is that the human-development-index is quite correlated with the Covid reproduction rate, as in the higher the index the higher the reproduction rate.  I can't think why that would be; I would think it would be the other way around. Also, the stringency index is correlated with new cases, new deaths,and new people vaccinated smoothed which seems likely but it is also correlated with the human development index.  And, it is not correlated with reproduction rate.  If it had been correlated with reproduction rate, I would think it would have been negatively correlated."
   ]
  },
  {
   "cell_type": "markdown",
   "id": "2d2f3537",
   "metadata": {},
   "source": [
    "**TODO: I need to continue working on this**"
   ]
  },
  {
   "cell_type": "markdown",
   "id": "7a159028",
   "metadata": {},
   "source": [
    "## Modeling and Evaluation 1"
   ]
  },
  {
   "cell_type": "code",
   "execution_count": 12,
   "id": "6189b013",
   "metadata": {},
   "outputs": [],
   "source": [
    "#K-Means works with Numeric Data\n",
    "selected_cols = ['new_deaths',                   \n",
    "   'reproduction_rate',          \n",
    "    'new_vaccinations_smoothed',   \n",
    "    'stringency_index',             \n",
    "    'population',                  \n",
    "    'median_age',                 \n",
    "    'aged_65_older',               \n",
    "    'gdp_per_capita',              \n",
    "    'cardiovasc_death_rate',        \n",
    "    'diabetes_prevalence',         \n",
    "   'handwashing_facilities',       \n",
    "   'hospital_beds_per_thousand',   \n",
    "   'life_expectancy',             \n",
    "   'human_development_index' ]\n",
    "cluster_data = covid_df.loc[:,selected_cols]"
   ]
  },
  {
   "cell_type": "code",
   "execution_count": 13,
   "id": "39e9df0f",
   "metadata": {},
   "outputs": [],
   "source": [
    "from tslearn.clustering import TimeSeriesKMeans\n",
    "model = TimeSeriesKMeans(n_clusters=3, metric=\"dtw\", max_iter=10)\n",
    "#model.fit(cluster_data)"
   ]
  },
  {
   "cell_type": "code",
   "execution_count": 14,
   "id": "be01263a",
   "metadata": {},
   "outputs": [
    {
     "name": "stderr",
     "output_type": "stream",
     "text": [
      "C:\\Users\\ajass\\anaconda3\\envs\\DS_7331_MLI\\lib\\site-packages\\tslearn\\barycenters\\dba.py:600: ConvergenceWarning:\n",
      "\n",
      "DBA loss is increasing while it should not be. Stopping optimization.\n",
      "\n"
     ]
    },
    {
     "name": "stdout",
     "output_type": "stream",
     "text": [
      "Wall time: 3min 20s\n"
     ]
    }
   ],
   "source": [
    "%%time\n",
    "x=model.fit(cluster_data)"
   ]
  },
  {
   "cell_type": "markdown",
   "id": "5c722089",
   "metadata": {},
   "source": [
    "### Train and adjust parameters <br>\n",
    "bla bla"
   ]
  },
  {
   "cell_type": "markdown",
   "id": "1b20054b",
   "metadata": {},
   "source": [
    "## Modeling and Evaluation 2"
   ]
  },
  {
   "cell_type": "markdown",
   "id": "e45db356",
   "metadata": {},
   "source": [
    "### Evaluate and Compare  <br>\n",
    "bla bla"
   ]
  },
  {
   "cell_type": "markdown",
   "id": "4284a0ed",
   "metadata": {},
   "source": [
    "## Modeling and Evaluation 3"
   ]
  },
  {
   "cell_type": "markdown",
   "id": "c8e90946",
   "metadata": {},
   "source": [
    "### Visualize results <br>\n",
    "bla bla"
   ]
  },
  {
   "cell_type": "markdown",
   "id": "180d16c3",
   "metadata": {},
   "source": [
    "##  Modeling and Evaluation 4 "
   ]
  },
  {
   "cell_type": "markdown",
   "id": "93dc2737",
   "metadata": {},
   "source": [
    "### Summarize the Ramifications <br>\n",
    "bla bla"
   ]
  },
  {
   "cell_type": "markdown",
   "id": "57b707f5",
   "metadata": {},
   "source": [
    "## Deployment - Dawn"
   ]
  },
  {
   "cell_type": "markdown",
   "id": "c077b124",
   "metadata": {},
   "source": [
    "### Did you achieve your goals?  <br>\n",
    "\n",
    "We wanted a model that could determine what features would  contribute to decreased / increased Covid cases and decreased / increased Covid deaths.  We needed a method that could predict Covid outcomes.  We did achieve our goals with an kNN model of new-deaths with an accuracy of 0.689.  For our new-cases predictor, our random forest regressor model had a RMSE of 227.91.  However the important attributes for the models were mostly population, again the other features were dwarfed by the large imput of population data.  \n",
    "This model might be more useful on a country by country range."
   ]
  },
  {
   "cell_type": "markdown",
   "id": "00f38122",
   "metadata": {},
   "source": [
    "### How useful is your model for interested parties (i.e., the companies or organizations that might want to use it for prediction)?  <br>\n",
    "\n",
    "The models created for this analysis use different prediction methods to determine the range of new cases and the number of new deaths resulting from Covid-19. While many of these models may have already been created, there is still a lot unknown about Covid-19. So, companies and organizations are eager to obtain any data and information they can get on Covid-19. If companies have a lot of data, they may want to study different models and outcomes, potentially making our models appealing to different organizations. Companies and organizations such as the CDC, Baylor Scott and White, and other participants in the health industry may be interested in these types of models. They may even improve accuracy of the models by incorporating and adding their own data. \n",
    "\n",
    "Also, these models could be very useful for life insurance companies so that they can adjust premiums and underwriting. These insurance companies are significantly impacted by Covid-19: \n",
    "\"Life insurance policies paid out over $90 billion in 2020, a 15.4% increase over 2019. That’s the largest year-over-year increase since the 1918 influenza pandemic.\" (source: https://fortune.com/2021/12/09/life-insurance-payouts-2020-record-high-covid/)"
   ]
  },
  {
   "cell_type": "markdown",
   "id": "fc63f1b7",
   "metadata": {},
   "source": [
    "### How would your deploy your model for interested parties? <br>\n",
    "\n",
    "The dataset used for this analysis was partially obtained from The Covid-19 Data Repository, which is for the Coronavirus Visual Dashboard by the Center for Systems Science and Engineering at Johns Hopkins University, and many other official sources. Since the pandemic's beginning, many people and groups within the health sector have been contributing and building datasets to study Covid-19. Like these groups, our model could also be deployed to GitHub, and we could allow the public to download, execute, and improve our models. To specifically deploy our models to interested parties, we could collaborate with non-profit public health organizations that collaborate with hospitals, primary care facilities, and other health establishments. "
   ]
  },
  {
   "cell_type": "markdown",
   "id": "266cebc9",
   "metadata": {},
   "source": [
    "### What other data should be collected? <br>\n",
    "\n",
    "Other data that should be collected may include observations for the variants of Covid-19. Since the viruses continues to mutate, there may be other features that could be implemented in the model. Futhermore, we may discover that some features in the original model are no longer relevant.\n",
    "Another data category that could be useful for analyzing Covid-19 could be symptoms. Throughout the pandemic, different people have been experiencing many different symptoms and enduring many different outcomes from the virus. By analyzing these symptoms, we may be able to better predict the outcomes of getting infected by Covid-19. \n",
    "\n",
    "Exploring granular observations for a particular geographic location, such as the United States could be another area of interest.\n",
    "\n",
    "Lastly, to better understand the impact of Covid, collecting disability data to understand the magnitude of long Covid."
   ]
  },
  {
   "cell_type": "markdown",
   "id": "cf815bfe",
   "metadata": {},
   "source": [
    " ### How often would the model need to be updated, etc.? <br>\n",
    "    \n",
    "Every day, new data is being created, particularly for Covid-19. As a result, predictive models need to be updated. As we learn more about Covid-19, many new variables may become relevant. While predictive models are capable of handling a lot of new data, too much buildup of new data may cause the models to lose their effectiveness over time. After a month, quarter, or year, updating predictive models with new data is probably necessary. In order to determine how often a model should be updated, one has to consider how often the data is changing and how often decisions are being made off the model. If data is changing very rapidly or decisions are being made often, frequent updates may be best. When updating the model, you should be sure to investigate the new data, adjust the model, and reevaluate any assumptions made in the creation process.     "
   ]
  },
  {
   "cell_type": "markdown",
   "id": "c6172291",
   "metadata": {},
   "source": [
    "## Exceptional Work - Dawn"
   ]
  },
  {
   "cell_type": "markdown",
   "id": "1e913afa",
   "metadata": {},
   "source": [
    "### You have free reign to provide additional analyses or combine analyses. <br>\n",
    "\n",
    "bla bla"
   ]
  },
  {
   "cell_type": "code",
   "execution_count": null,
   "id": "d6fe305b",
   "metadata": {},
   "outputs": [],
   "source": []
  }
 ],
 "metadata": {
  "kernelspec": {
   "display_name": "Python 3 (ipykernel)",
   "language": "python",
   "name": "python3"
  },
  "language_info": {
   "codemirror_mode": {
    "name": "ipython",
    "version": 3
   },
   "file_extension": ".py",
   "mimetype": "text/x-python",
   "name": "python",
   "nbconvert_exporter": "python",
   "pygments_lexer": "ipython3",
   "version": "3.7.1"
  }
 },
 "nbformat": 4,
 "nbformat_minor": 5
}
